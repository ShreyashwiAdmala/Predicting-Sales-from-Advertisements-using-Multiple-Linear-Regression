{
 "cells": [
  {
   "cell_type": "code",
   "execution_count": 1,
   "id": "849f39d2",
   "metadata": {},
   "outputs": [],
   "source": [
    "import pandas as p\n",
    "import seaborn as sb\n",
    "import matplotlib.pyplot as plot\n",
    "sb.set_theme(palette=\"deep\",style=\"whitegrid\")\n",
    "from sklearn.model_selection import train_test_split\n",
    "from sklearn.linear_model import LinearRegression\n",
    "from sklearn.metrics import r2_score"
   ]
  },
  {
   "cell_type": "code",
   "execution_count": 2,
   "id": "212ca7ee",
   "metadata": {},
   "outputs": [
    {
     "data": {
      "text/html": [
       "<div>\n",
       "<style scoped>\n",
       "    .dataframe tbody tr th:only-of-type {\n",
       "        vertical-align: middle;\n",
       "    }\n",
       "\n",
       "    .dataframe tbody tr th {\n",
       "        vertical-align: top;\n",
       "    }\n",
       "\n",
       "    .dataframe thead th {\n",
       "        text-align: right;\n",
       "    }\n",
       "</style>\n",
       "<table border=\"1\" class=\"dataframe\">\n",
       "  <thead>\n",
       "    <tr style=\"text-align: right;\">\n",
       "      <th></th>\n",
       "      <th>TV</th>\n",
       "      <th>Radio</th>\n",
       "      <th>Social Media</th>\n",
       "      <th>Sales</th>\n",
       "    </tr>\n",
       "  </thead>\n",
       "  <tbody>\n",
       "    <tr>\n",
       "      <th>0</th>\n",
       "      <td>16.0</td>\n",
       "      <td>6.566231</td>\n",
       "      <td>2.907983</td>\n",
       "      <td>54.732757</td>\n",
       "    </tr>\n",
       "    <tr>\n",
       "      <th>1</th>\n",
       "      <td>13.0</td>\n",
       "      <td>9.237765</td>\n",
       "      <td>2.409567</td>\n",
       "      <td>46.677897</td>\n",
       "    </tr>\n",
       "    <tr>\n",
       "      <th>2</th>\n",
       "      <td>41.0</td>\n",
       "      <td>15.886446</td>\n",
       "      <td>2.913410</td>\n",
       "      <td>150.177829</td>\n",
       "    </tr>\n",
       "    <tr>\n",
       "      <th>3</th>\n",
       "      <td>83.0</td>\n",
       "      <td>30.020028</td>\n",
       "      <td>6.922304</td>\n",
       "      <td>298.246340</td>\n",
       "    </tr>\n",
       "    <tr>\n",
       "      <th>4</th>\n",
       "      <td>15.0</td>\n",
       "      <td>8.437408</td>\n",
       "      <td>1.405998</td>\n",
       "      <td>56.594181</td>\n",
       "    </tr>\n",
       "  </tbody>\n",
       "</table>\n",
       "</div>"
      ],
      "text/plain": [
       "     TV      Radio  Social Media       Sales\n",
       "0  16.0   6.566231      2.907983   54.732757\n",
       "1  13.0   9.237765      2.409567   46.677897\n",
       "2  41.0  15.886446      2.913410  150.177829\n",
       "3  83.0  30.020028      6.922304  298.246340\n",
       "4  15.0   8.437408      1.405998   56.594181"
      ]
     },
     "execution_count": 2,
     "metadata": {},
     "output_type": "execute_result"
    }
   ],
   "source": [
    "#importing the dataset\n",
    "data_set = p.read_csv(\"/Users/saishreyashwiadmala/Desktop/Data.csv\")\n",
    "data_set.pop('Influencer')\n",
    "data_set.head()"
   ]
  },
  {
   "cell_type": "code",
   "execution_count": 3,
   "id": "9450cde1",
   "metadata": {},
   "outputs": [
    {
     "data": {
      "text/html": [
       "<div>\n",
       "<style scoped>\n",
       "    .dataframe tbody tr th:only-of-type {\n",
       "        vertical-align: middle;\n",
       "    }\n",
       "\n",
       "    .dataframe tbody tr th {\n",
       "        vertical-align: top;\n",
       "    }\n",
       "\n",
       "    .dataframe thead th {\n",
       "        text-align: right;\n",
       "    }\n",
       "</style>\n",
       "<table border=\"1\" class=\"dataframe\">\n",
       "  <thead>\n",
       "    <tr style=\"text-align: right;\">\n",
       "      <th></th>\n",
       "      <th>TV</th>\n",
       "      <th>Radio</th>\n",
       "      <th>Social Media</th>\n",
       "      <th>Sales</th>\n",
       "    </tr>\n",
       "  </thead>\n",
       "  <tbody>\n",
       "    <tr>\n",
       "      <th>count</th>\n",
       "      <td>4562.000000</td>\n",
       "      <td>4568.000000</td>\n",
       "      <td>4566.000000</td>\n",
       "      <td>4566.000000</td>\n",
       "    </tr>\n",
       "    <tr>\n",
       "      <th>mean</th>\n",
       "      <td>54.066857</td>\n",
       "      <td>18.160356</td>\n",
       "      <td>3.323956</td>\n",
       "      <td>192.466602</td>\n",
       "    </tr>\n",
       "    <tr>\n",
       "      <th>std</th>\n",
       "      <td>26.125054</td>\n",
       "      <td>9.676958</td>\n",
       "      <td>2.212670</td>\n",
       "      <td>93.133092</td>\n",
       "    </tr>\n",
       "    <tr>\n",
       "      <th>min</th>\n",
       "      <td>10.000000</td>\n",
       "      <td>0.000684</td>\n",
       "      <td>0.000031</td>\n",
       "      <td>31.199409</td>\n",
       "    </tr>\n",
       "    <tr>\n",
       "      <th>25%</th>\n",
       "      <td>32.000000</td>\n",
       "      <td>10.525957</td>\n",
       "      <td>1.527849</td>\n",
       "      <td>112.322882</td>\n",
       "    </tr>\n",
       "    <tr>\n",
       "      <th>50%</th>\n",
       "      <td>53.000000</td>\n",
       "      <td>17.859513</td>\n",
       "      <td>3.055565</td>\n",
       "      <td>189.231172</td>\n",
       "    </tr>\n",
       "    <tr>\n",
       "      <th>75%</th>\n",
       "      <td>77.000000</td>\n",
       "      <td>25.649730</td>\n",
       "      <td>4.807558</td>\n",
       "      <td>272.507922</td>\n",
       "    </tr>\n",
       "    <tr>\n",
       "      <th>max</th>\n",
       "      <td>100.000000</td>\n",
       "      <td>48.871161</td>\n",
       "      <td>13.981662</td>\n",
       "      <td>364.079751</td>\n",
       "    </tr>\n",
       "  </tbody>\n",
       "</table>\n",
       "</div>"
      ],
      "text/plain": [
       "                TV        Radio  Social Media        Sales\n",
       "count  4562.000000  4568.000000   4566.000000  4566.000000\n",
       "mean     54.066857    18.160356      3.323956   192.466602\n",
       "std      26.125054     9.676958      2.212670    93.133092\n",
       "min      10.000000     0.000684      0.000031    31.199409\n",
       "25%      32.000000    10.525957      1.527849   112.322882\n",
       "50%      53.000000    17.859513      3.055565   189.231172\n",
       "75%      77.000000    25.649730      4.807558   272.507922\n",
       "max     100.000000    48.871161     13.981662   364.079751"
      ]
     },
     "execution_count": 3,
     "metadata": {},
     "output_type": "execute_result"
    }
   ],
   "source": [
    "#Data analysis before cleaning\n",
    "data_set.describe()"
   ]
  },
  {
   "cell_type": "code",
   "execution_count": 4,
   "id": "7fb7e346",
   "metadata": {
    "scrolled": true
   },
   "outputs": [
    {
     "data": {
      "text/html": [
       "<div>\n",
       "<style scoped>\n",
       "    .dataframe tbody tr th:only-of-type {\n",
       "        vertical-align: middle;\n",
       "    }\n",
       "\n",
       "    .dataframe tbody tr th {\n",
       "        vertical-align: top;\n",
       "    }\n",
       "\n",
       "    .dataframe thead th {\n",
       "        text-align: right;\n",
       "    }\n",
       "</style>\n",
       "<table border=\"1\" class=\"dataframe\">\n",
       "  <thead>\n",
       "    <tr style=\"text-align: right;\">\n",
       "      <th></th>\n",
       "      <th>TV</th>\n",
       "      <th>Radio</th>\n",
       "      <th>Social Media</th>\n",
       "      <th>Sales</th>\n",
       "    </tr>\n",
       "  </thead>\n",
       "  <tbody>\n",
       "    <tr>\n",
       "      <th>0</th>\n",
       "      <td>16.0</td>\n",
       "      <td>6.566231</td>\n",
       "      <td>2.907983</td>\n",
       "      <td>54.732757</td>\n",
       "    </tr>\n",
       "    <tr>\n",
       "      <th>1</th>\n",
       "      <td>13.0</td>\n",
       "      <td>9.237765</td>\n",
       "      <td>2.409567</td>\n",
       "      <td>46.677897</td>\n",
       "    </tr>\n",
       "    <tr>\n",
       "      <th>2</th>\n",
       "      <td>41.0</td>\n",
       "      <td>15.886446</td>\n",
       "      <td>2.913410</td>\n",
       "      <td>150.177829</td>\n",
       "    </tr>\n",
       "    <tr>\n",
       "      <th>3</th>\n",
       "      <td>83.0</td>\n",
       "      <td>30.020028</td>\n",
       "      <td>6.922304</td>\n",
       "      <td>298.246340</td>\n",
       "    </tr>\n",
       "    <tr>\n",
       "      <th>4</th>\n",
       "      <td>15.0</td>\n",
       "      <td>8.437408</td>\n",
       "      <td>1.405998</td>\n",
       "      <td>56.594181</td>\n",
       "    </tr>\n",
       "    <tr>\n",
       "      <th>...</th>\n",
       "      <td>...</td>\n",
       "      <td>...</td>\n",
       "      <td>...</td>\n",
       "      <td>...</td>\n",
       "    </tr>\n",
       "    <tr>\n",
       "      <th>4567</th>\n",
       "      <td>26.0</td>\n",
       "      <td>4.472360</td>\n",
       "      <td>0.717090</td>\n",
       "      <td>94.685866</td>\n",
       "    </tr>\n",
       "    <tr>\n",
       "      <th>4568</th>\n",
       "      <td>71.0</td>\n",
       "      <td>20.610685</td>\n",
       "      <td>6.545573</td>\n",
       "      <td>249.101915</td>\n",
       "    </tr>\n",
       "    <tr>\n",
       "      <th>4569</th>\n",
       "      <td>44.0</td>\n",
       "      <td>19.800072</td>\n",
       "      <td>5.096192</td>\n",
       "      <td>163.631457</td>\n",
       "    </tr>\n",
       "    <tr>\n",
       "      <th>4570</th>\n",
       "      <td>71.0</td>\n",
       "      <td>17.534640</td>\n",
       "      <td>1.940873</td>\n",
       "      <td>253.610411</td>\n",
       "    </tr>\n",
       "    <tr>\n",
       "      <th>4571</th>\n",
       "      <td>42.0</td>\n",
       "      <td>15.966688</td>\n",
       "      <td>5.046548</td>\n",
       "      <td>148.202414</td>\n",
       "    </tr>\n",
       "  </tbody>\n",
       "</table>\n",
       "<p>4572 rows × 4 columns</p>\n",
       "</div>"
      ],
      "text/plain": [
       "        TV      Radio  Social Media       Sales\n",
       "0     16.0   6.566231      2.907983   54.732757\n",
       "1     13.0   9.237765      2.409567   46.677897\n",
       "2     41.0  15.886446      2.913410  150.177829\n",
       "3     83.0  30.020028      6.922304  298.246340\n",
       "4     15.0   8.437408      1.405998   56.594181\n",
       "...    ...        ...           ...         ...\n",
       "4567  26.0   4.472360      0.717090   94.685866\n",
       "4568  71.0  20.610685      6.545573  249.101915\n",
       "4569  44.0  19.800072      5.096192  163.631457\n",
       "4570  71.0  17.534640      1.940873  253.610411\n",
       "4571  42.0  15.966688      5.046548  148.202414\n",
       "\n",
       "[4572 rows x 4 columns]"
      ]
     },
     "execution_count": 4,
     "metadata": {},
     "output_type": "execute_result"
    }
   ],
   "source": [
    "#Deleting duplicate values\n",
    "data_set.drop_duplicates(keep=False)"
   ]
  },
  {
   "cell_type": "code",
   "execution_count": 5,
   "id": "bd4264b1",
   "metadata": {},
   "outputs": [
    {
     "data": {
      "text/plain": [
       "TV              10\n",
       "Radio            4\n",
       "Social Media     6\n",
       "Sales            6\n",
       "dtype: int64"
      ]
     },
     "execution_count": 5,
     "metadata": {},
     "output_type": "execute_result"
    }
   ],
   "source": [
    "#Check for null values\n",
    "data_set.isna().sum()"
   ]
  },
  {
   "cell_type": "code",
   "execution_count": 6,
   "id": "05bf838c",
   "metadata": {},
   "outputs": [],
   "source": [
    "#Replacing Null Values with Mean\n",
    "data_set['TV'].fillna((data_set['TV'].mean()), inplace=True)\n",
    "data_set['Radio'].fillna((data_set['TV'].mean()), inplace=True)\n",
    "data_set['Social Media'].fillna((data_set['TV'].mean()), inplace=True)\n",
    "data_set['Sales'].fillna((data_set['TV'].mean()), inplace=True)"
   ]
  },
  {
   "cell_type": "code",
   "execution_count": 7,
   "id": "a8447749",
   "metadata": {},
   "outputs": [
    {
     "data": {
      "text/plain": [
       "TV              0\n",
       "Radio           0\n",
       "Social Media    0\n",
       "Sales           0\n",
       "dtype: int64"
      ]
     },
     "execution_count": 7,
     "metadata": {},
     "output_type": "execute_result"
    }
   ],
   "source": [
    "#Check for null values\n",
    "data_set.isna().sum()"
   ]
  },
  {
   "cell_type": "code",
   "execution_count": 8,
   "id": "90dfaed6",
   "metadata": {},
   "outputs": [
    {
     "data": {
      "text/html": [
       "<div>\n",
       "<style scoped>\n",
       "    .dataframe tbody tr th:only-of-type {\n",
       "        vertical-align: middle;\n",
       "    }\n",
       "\n",
       "    .dataframe tbody tr th {\n",
       "        vertical-align: top;\n",
       "    }\n",
       "\n",
       "    .dataframe thead th {\n",
       "        text-align: right;\n",
       "    }\n",
       "</style>\n",
       "<table border=\"1\" class=\"dataframe\">\n",
       "  <thead>\n",
       "    <tr style=\"text-align: right;\">\n",
       "      <th></th>\n",
       "      <th>TV</th>\n",
       "      <th>Radio</th>\n",
       "      <th>Social Media</th>\n",
       "      <th>Sales</th>\n",
       "    </tr>\n",
       "  </thead>\n",
       "  <tbody>\n",
       "    <tr>\n",
       "      <th>count</th>\n",
       "      <td>4572.000000</td>\n",
       "      <td>4572.000000</td>\n",
       "      <td>4572.000000</td>\n",
       "      <td>4572.000000</td>\n",
       "    </tr>\n",
       "    <tr>\n",
       "      <th>mean</th>\n",
       "      <td>54.066857</td>\n",
       "      <td>18.191770</td>\n",
       "      <td>3.390548</td>\n",
       "      <td>192.284975</td>\n",
       "    </tr>\n",
       "    <tr>\n",
       "      <th>std</th>\n",
       "      <td>26.096461</td>\n",
       "      <td>9.730818</td>\n",
       "      <td>2.874864</td>\n",
       "      <td>93.206743</td>\n",
       "    </tr>\n",
       "    <tr>\n",
       "      <th>min</th>\n",
       "      <td>10.000000</td>\n",
       "      <td>0.000684</td>\n",
       "      <td>0.000031</td>\n",
       "      <td>31.199409</td>\n",
       "    </tr>\n",
       "    <tr>\n",
       "      <th>25%</th>\n",
       "      <td>32.000000</td>\n",
       "      <td>10.546519</td>\n",
       "      <td>1.529879</td>\n",
       "      <td>112.200878</td>\n",
       "    </tr>\n",
       "    <tr>\n",
       "      <th>50%</th>\n",
       "      <td>53.000000</td>\n",
       "      <td>17.875181</td>\n",
       "      <td>3.057150</td>\n",
       "      <td>188.898600</td>\n",
       "    </tr>\n",
       "    <tr>\n",
       "      <th>75%</th>\n",
       "      <td>77.000000</td>\n",
       "      <td>25.670989</td>\n",
       "      <td>4.812651</td>\n",
       "      <td>272.414914</td>\n",
       "    </tr>\n",
       "    <tr>\n",
       "      <th>max</th>\n",
       "      <td>100.000000</td>\n",
       "      <td>54.066857</td>\n",
       "      <td>54.066857</td>\n",
       "      <td>364.079751</td>\n",
       "    </tr>\n",
       "  </tbody>\n",
       "</table>\n",
       "</div>"
      ],
      "text/plain": [
       "                TV        Radio  Social Media        Sales\n",
       "count  4572.000000  4572.000000   4572.000000  4572.000000\n",
       "mean     54.066857    18.191770      3.390548   192.284975\n",
       "std      26.096461     9.730818      2.874864    93.206743\n",
       "min      10.000000     0.000684      0.000031    31.199409\n",
       "25%      32.000000    10.546519      1.529879   112.200878\n",
       "50%      53.000000    17.875181      3.057150   188.898600\n",
       "75%      77.000000    25.670989      4.812651   272.414914\n",
       "max     100.000000    54.066857     54.066857   364.079751"
      ]
     },
     "execution_count": 8,
     "metadata": {},
     "output_type": "execute_result"
    }
   ],
   "source": [
    "#Data Analysis after Cleaning\n",
    "data_set.describe()"
   ]
  },
  {
   "cell_type": "code",
   "execution_count": 9,
   "id": "4b7a2e53",
   "metadata": {},
   "outputs": [
    {
     "data": {
      "text/plain": [
       "<AxesSubplot:>"
      ]
     },
     "execution_count": 9,
     "metadata": {},
     "output_type": "execute_result"
    },
    {
     "data": {
      "image/png": "[encoded data removed]",
      "text/plain": [
       "<Figure size 432x288 with 2 Axes>"
      ]
     },
     "metadata": {},
     "output_type": "display_data"
    }
   ],
   "source": [
    "#Correlation Matrix after cleaning\n",
    "sb.heatmap(data_set.corr(),annot=True)"
   ]
  },
  {
   "cell_type": "code",
   "execution_count": 10,
   "id": "27a5743f",
   "metadata": {},
   "outputs": [
    {
     "data": {
      "text/plain": [
       "<AxesSubplot:xlabel='TV'>"
      ]
     },
     "execution_count": 10,
     "metadata": {},
     "output_type": "execute_result"
    },
    {
     "data": {
      "image/png": "[encoded data removed]",
      "text/plain": [
       "<Figure size 432x288 with 1 Axes>"
      ]
     },
     "metadata": {},
     "output_type": "display_data"
    }
   ],
   "source": [
    "#Boxplot for TV\n",
    "sb.boxplot(x=data_set[\"TV\"])"
   ]
  },
  {
   "cell_type": "code",
   "execution_count": 11,
   "id": "f412a766",
   "metadata": {
    "scrolled": true
   },
   "outputs": [
    {
     "data": {
      "text/plain": [
       "<AxesSubplot:xlabel='Radio'>"
      ]
     },
     "execution_count": 11,
     "metadata": {},
     "output_type": "execute_result"
    },
    {
     "data": {
      "image/png": "[encoded data removed]",
      "text/plain": [
       "<Figure size 432x288 with 1 Axes>"
      ]
     },
     "metadata": {},
     "output_type": "display_data"
    }
   ],
   "source": [
    "#Boxplot for Radio\n",
    "sb.boxplot(x=data_set[\"Radio\"])"
   ]
  },
  {
   "cell_type": "code",
   "execution_count": 12,
   "id": "76f5f810",
   "metadata": {},
   "outputs": [
    {
     "data": {
      "text/plain": [
       "<AxesSubplot:xlabel='Social Media'>"
      ]
     },
     "execution_count": 12,
     "metadata": {},
     "output_type": "execute_result"
    },
    {
     "data": {
      "image/png": "[encoded data removed]",
      "text/plain": [
       "<Figure size 432x288 with 1 Axes>"
      ]
     },
     "metadata": {},
     "output_type": "display_data"
    }
   ],
   "source": [
    "#Boxplot for Social Media\n",
    "sb.boxplot(x=data_set[\"Social Media\"])"
   ]
  },
  {
   "cell_type": "code",
   "execution_count": 13,
   "id": "4f3a4449",
   "metadata": {},
   "outputs": [
    {
     "data": {
      "text/plain": [
       "<AxesSubplot:xlabel='Sales'>"
      ]
     },
     "execution_count": 13,
     "metadata": {},
     "output_type": "execute_result"
    },
    {
     "data": {
      "image/png": "[encoded data removed]",
      "text/plain": [
       "<Figure size 432x288 with 1 Axes>"
      ]
     },
     "metadata": {},
     "output_type": "display_data"
    }
   ],
   "source": [
    "#Boxplot for Sales\n",
    "sb.boxplot(x=data_set[\"Sales\"])"
   ]
  },
  {
   "cell_type": "code",
   "execution_count": 14,
   "id": "0386c614",
   "metadata": {},
   "outputs": [],
   "source": [
    "#Checking for outliers using IQR rule\n",
    "p25 = data_set['Radio'].quantile(0.25)\n",
    "p75 = data_set['Radio'].quantile(0.75)\n",
    "iqr = p75 - p25"
   ]
  },
  {
   "cell_type": "code",
   "execution_count": 15,
   "id": "9a9e3b0d",
   "metadata": {},
   "outputs": [],
   "source": [
    "#upper limit\n",
    "ul = p75 + 1.5 * iqr\n",
    "#lower limit\n",
    "ll = p25 - 1.5 * iqr"
   ]
  },
  {
   "cell_type": "code",
   "execution_count": 16,
   "id": "64bdfd37",
   "metadata": {},
   "outputs": [
    {
     "data": {
      "text/plain": [
       "(4567, 4)"
      ]
     },
     "execution_count": 16,
     "metadata": {},
     "output_type": "execute_result"
    }
   ],
   "source": [
    "new_data = data_set[data_set['Radio'] < ul]\n",
    "new_data.shape"
   ]
  },
  {
   "cell_type": "code",
   "execution_count": 17,
   "id": "13d1d47e",
   "metadata": {
    "scrolled": true
   },
   "outputs": [
    {
     "name": "stderr",
     "output_type": "stream",
     "text": [
      "/opt/anaconda3/lib/python3.9/site-packages/seaborn/_decorators.py:36: FutureWarning: Pass the following variable as a keyword arg: x. From version 0.12, the only valid positional argument will be `data`, and passing other arguments without an explicit keyword will result in an error or misinterpretation.\n",
      "  warnings.warn(\n",
      "/opt/anaconda3/lib/python3.9/site-packages/seaborn/_decorators.py:36: FutureWarning: Pass the following variable as a keyword arg: x. From version 0.12, the only valid positional argument will be `data`, and passing other arguments without an explicit keyword will result in an error or misinterpretation.\n",
      "  warnings.warn(\n"
     ]
    },
    {
     "data": {
      "image/png": "[encoded data removed]",
      "text/plain": [
       "<Figure size 1152x576 with 2 Axes>"
      ]
     },
     "metadata": {},
     "output_type": "display_data"
    }
   ],
   "source": [
    "plot.figure(figsize=(16,8))\n",
    "plot.subplot(2,2,1)\n",
    "sb.boxplot(data_set['Radio'])\n",
    "plot.subplot(2,2,2)\n",
    "sb.boxplot(new_data['Radio'])\n",
    "plot.show()"
   ]
  },
  {
   "cell_type": "code",
   "execution_count": 18,
   "id": "f8c9c0cd",
   "metadata": {},
   "outputs": [],
   "source": [
    "p25 = data_set['Social Media'].quantile(0.25)\n",
    "p75 = data_set['Social Media'].quantile(0.75)\n",
    "iqr = p75 - p25"
   ]
  },
  {
   "cell_type": "code",
   "execution_count": 19,
   "id": "30181c67",
   "metadata": {},
   "outputs": [],
   "source": [
    "#upper limit\n",
    "ul = p75 + 1.5 * iqr\n",
    "#lower limit\n",
    "ll = p25 - 1.5 * iqr"
   ]
  },
  {
   "cell_type": "code",
   "execution_count": 20,
   "id": "54a64266",
   "metadata": {},
   "outputs": [
    {
     "data": {
      "text/plain": [
       "(4538, 4)"
      ]
     },
     "execution_count": 20,
     "metadata": {},
     "output_type": "execute_result"
    }
   ],
   "source": [
    "new_data = data_set[data_set['Social Media'] < ul]\n",
    "new_data.shape"
   ]
  },
  {
   "cell_type": "code",
   "execution_count": 21,
   "id": "0662f981",
   "metadata": {},
   "outputs": [
    {
     "name": "stderr",
     "output_type": "stream",
     "text": [
      "/opt/anaconda3/lib/python3.9/site-packages/seaborn/_decorators.py:36: FutureWarning: Pass the following variable as a keyword arg: x. From version 0.12, the only valid positional argument will be `data`, and passing other arguments without an explicit keyword will result in an error or misinterpretation.\n",
      "  warnings.warn(\n",
      "/opt/anaconda3/lib/python3.9/site-packages/seaborn/_decorators.py:36: FutureWarning: Pass the following variable as a keyword arg: x. From version 0.12, the only valid positional argument will be `data`, and passing other arguments without an explicit keyword will result in an error or misinterpretation.\n",
      "  warnings.warn(\n"
     ]
    },
    {
     "data": {
      "image/png": "[encoded data removed]",
      "text/plain": [
       "<Figure size 1152x576 with 2 Axes>"
      ]
     },
     "metadata": {},
     "output_type": "display_data"
    }
   ],
   "source": [
    "plot.figure(figsize=(16,8))\n",
    "plot.subplot(2,2,1)\n",
    "sb.boxplot(data_set['Social Media'])\n",
    "plot.subplot(2,2,2)\n",
    "sb.boxplot(new_data['Social Media'])\n",
    "plot.show()"
   ]
  },
  {
   "cell_type": "code",
   "execution_count": 22,
   "id": "6fb2f603",
   "metadata": {},
   "outputs": [
    {
     "data": {
      "text/html": [
       "<div>\n",
       "<style scoped>\n",
       "    .dataframe tbody tr th:only-of-type {\n",
       "        vertical-align: middle;\n",
       "    }\n",
       "\n",
       "    .dataframe tbody tr th {\n",
       "        vertical-align: top;\n",
       "    }\n",
       "\n",
       "    .dataframe thead th {\n",
       "        text-align: right;\n",
       "    }\n",
       "</style>\n",
       "<table border=\"1\" class=\"dataframe\">\n",
       "  <thead>\n",
       "    <tr style=\"text-align: right;\">\n",
       "      <th></th>\n",
       "      <th>TV</th>\n",
       "      <th>Radio</th>\n",
       "      <th>Social Media</th>\n",
       "      <th>Sales</th>\n",
       "    </tr>\n",
       "  </thead>\n",
       "  <tbody>\n",
       "    <tr>\n",
       "      <th>count</th>\n",
       "      <td>4538.000000</td>\n",
       "      <td>4538.000000</td>\n",
       "      <td>4538.000000</td>\n",
       "      <td>4538.000000</td>\n",
       "    </tr>\n",
       "    <tr>\n",
       "      <th>mean</th>\n",
       "      <td>53.883797</td>\n",
       "      <td>18.099653</td>\n",
       "      <td>3.278153</td>\n",
       "      <td>191.628830</td>\n",
       "    </tr>\n",
       "    <tr>\n",
       "      <th>std</th>\n",
       "      <td>26.057627</td>\n",
       "      <td>9.680697</td>\n",
       "      <td>2.139481</td>\n",
       "      <td>93.066822</td>\n",
       "    </tr>\n",
       "    <tr>\n",
       "      <th>min</th>\n",
       "      <td>10.000000</td>\n",
       "      <td>0.000684</td>\n",
       "      <td>0.000031</td>\n",
       "      <td>31.199409</td>\n",
       "    </tr>\n",
       "    <tr>\n",
       "      <th>25%</th>\n",
       "      <td>32.000000</td>\n",
       "      <td>10.447480</td>\n",
       "      <td>1.521468</td>\n",
       "      <td>111.568542</td>\n",
       "    </tr>\n",
       "    <tr>\n",
       "      <th>50%</th>\n",
       "      <td>53.000000</td>\n",
       "      <td>17.790650</td>\n",
       "      <td>3.041391</td>\n",
       "      <td>188.064522</td>\n",
       "    </tr>\n",
       "    <tr>\n",
       "      <th>75%</th>\n",
       "      <td>76.000000</td>\n",
       "      <td>25.506645</td>\n",
       "      <td>4.779091</td>\n",
       "      <td>271.231716</td>\n",
       "    </tr>\n",
       "    <tr>\n",
       "      <th>max</th>\n",
       "      <td>100.000000</td>\n",
       "      <td>54.066857</td>\n",
       "      <td>9.638966</td>\n",
       "      <td>364.079751</td>\n",
       "    </tr>\n",
       "  </tbody>\n",
       "</table>\n",
       "</div>"
      ],
      "text/plain": [
       "                TV        Radio  Social Media        Sales\n",
       "count  4538.000000  4538.000000   4538.000000  4538.000000\n",
       "mean     53.883797    18.099653      3.278153   191.628830\n",
       "std      26.057627     9.680697      2.139481    93.066822\n",
       "min      10.000000     0.000684      0.000031    31.199409\n",
       "25%      32.000000    10.447480      1.521468   111.568542\n",
       "50%      53.000000    17.790650      3.041391   188.064522\n",
       "75%      76.000000    25.506645      4.779091   271.231716\n",
       "max     100.000000    54.066857      9.638966   364.079751"
      ]
     },
     "execution_count": 22,
     "metadata": {},
     "output_type": "execute_result"
    }
   ],
   "source": [
    "#Data Analysis after removing outliers\n",
    "new_data.describe()"
   ]
  },
  {
   "cell_type": "code",
   "execution_count": 23,
   "id": "aa40e9f9",
   "metadata": {},
   "outputs": [
    {
     "data": {
      "text/plain": [
       "<AxesSubplot:>"
      ]
     },
     "execution_count": 23,
     "metadata": {},
     "output_type": "execute_result"
    },
    {
     "data": {
      "image/png": "[encoded data removed]",
      "text/plain": [
       "<Figure size 432x288 with 2 Axes>"
      ]
     },
     "metadata": {},
     "output_type": "display_data"
    }
   ],
   "source": [
    "#Correlation Matrix after removing outliers\n",
    "sb.heatmap(new_data.corr(),annot=True)"
   ]
  },
  {
   "cell_type": "code",
   "execution_count": 24,
   "id": "2f2ae262",
   "metadata": {},
   "outputs": [
    {
     "name": "stdout",
     "output_type": "stream",
     "text": [
      "        TV      Radio  Social Media\n",
      "0     16.0   6.566231      2.907983\n",
      "1     13.0   9.237765      2.409567\n",
      "2     41.0  15.886446      2.913410\n",
      "3     83.0  30.020028      6.922304\n",
      "4     15.0   8.437408      1.405998\n",
      "...    ...        ...           ...\n",
      "4567  26.0   4.472360      0.717090\n",
      "4568  71.0  20.610685      6.545573\n",
      "4569  44.0  19.800072      5.096192\n",
      "4570  71.0  17.534640      1.940873\n",
      "4571  42.0  15.966688      5.046548\n",
      "\n",
      "[4572 rows x 3 columns]\n"
     ]
    }
   ],
   "source": [
    "#independent variables (idv)\n",
    "idv = data_set.iloc[:,0:-1]\n",
    "print(idv)"
   ]
  },
  {
   "cell_type": "code",
   "execution_count": 25,
   "id": "1b47b0be",
   "metadata": {},
   "outputs": [
    {
     "name": "stdout",
     "output_type": "stream",
     "text": [
      "           Sales\n",
      "0      54.732757\n",
      "1      46.677897\n",
      "2     150.177829\n",
      "3     298.246340\n",
      "4      56.594181\n",
      "...          ...\n",
      "4567   94.685866\n",
      "4568  249.101915\n",
      "4569  163.631457\n",
      "4570  253.610411\n",
      "4571  148.202414\n",
      "\n",
      "[4572 rows x 1 columns]\n"
     ]
    }
   ],
   "source": [
    "#dependent variables (dv)\n",
    "dv = data_set.iloc[:,-1:]\n",
    "print(dv)"
   ]
  },
  {
   "cell_type": "code",
   "execution_count": 26,
   "id": "0aa3e515",
   "metadata": {},
   "outputs": [],
   "source": [
    "#splitting data for training and testing\n",
    "idv_train, idv_test, dv_train, dv_test = train_test_split(idv, dv, random_state = 0)"
   ]
  },
  {
   "cell_type": "code",
   "execution_count": 27,
   "id": "6fec2129",
   "metadata": {},
   "outputs": [
    {
     "data": {
      "text/plain": [
       "LinearRegression()"
      ]
     },
     "execution_count": 27,
     "metadata": {},
     "output_type": "execute_result"
    }
   ],
   "source": [
    "#using idv_train and dv_train with fit() method to fit the line to our data\n",
    "linear_regression = LinearRegression()\n",
    "linear_regression.fit(idv_train, dv_train)"
   ]
  },
  {
   "cell_type": "code",
   "execution_count": 28,
   "id": "3386d21d",
   "metadata": {},
   "outputs": [],
   "source": [
    "#using predict() method we are making predictions on the testing data\n",
    "dv_pred = linear_regression.predict(idv_test)"
   ]
  },
  {
   "cell_type": "code",
   "execution_count": 29,
   "id": "60da1af2",
   "metadata": {},
   "outputs": [
    {
     "name": "stdout",
     "output_type": "stream",
     "text": [
      "         TV      Radio  Social Media       Sales\n",
      "0      45.0  17.127520      1.462857  160.378484\n",
      "1      74.0  29.520170      2.333157  264.158718\n",
      "2      84.0  28.255844      5.699994  299.131664\n",
      "3      83.0  34.685101     10.030244  297.072269\n",
      "4      21.0   1.380311      5.286681   73.779245\n",
      "...     ...        ...           ...         ...\n",
      "1138   12.0   3.876011      1.906026   42.528225\n",
      "1139   14.0   7.442169      1.954880   50.177312\n",
      "1140   84.0  24.599184      4.602430  298.398537\n",
      "1141  100.0  33.151808      5.473668  355.992727\n",
      "1142   19.0   8.726783      0.497838   67.814781\n",
      "\n",
      "[1143 rows x 4 columns]\n"
     ]
    }
   ],
   "source": [
    "a = p.concat([idv_test.reset_index(drop=True), p.DataFrame(dv_pred)],axis=1)\n",
    "a.rename(columns = {0:'Sales'},inplace = True)\n",
    "print(a)"
   ]
  },
  {
   "cell_type": "code",
   "execution_count": 30,
   "id": "2f87a5a7",
   "metadata": {},
   "outputs": [
    {
     "data": {
      "text/plain": [
       "0.9855204934919292"
      ]
     },
     "execution_count": 30,
     "metadata": {},
     "output_type": "execute_result"
    }
   ],
   "source": [
    "r2_score(dv_test, dv_pred)"
   ]
  },
  {
   "cell_type": "code",
   "execution_count": 31,
   "id": "38d4836a",
   "metadata": {},
   "outputs": [
    {
     "name": "stdout",
     "output_type": "stream",
     "text": [
      "[-0.28496431]\n"
     ]
    }
   ],
   "source": [
    "print(linear_regression.intercept_)"
   ]
  },
  {
   "cell_type": "code",
   "execution_count": 32,
   "id": "cc5d9bcd",
   "metadata": {},
   "outputs": [
    {
     "name": "stdout",
     "output_type": "stream",
     "text": [
      "[[3.49912144 0.18164547 0.06278639]]\n"
     ]
    }
   ],
   "source": [
    "print(linear_regression.coef_)"
   ]
  }
 ],
 "metadata": {
  "kernelspec": {
   "display_name": "Python 3 (ipykernel)",
   "language": "python",
   "name": "python3"
  },
  "language_info": {
   "codemirror_mode": {
    "name": "ipython",
    "version": 3
   },
   "file_extension": ".py",
   "mimetype": "text/x-python",
   "name": "python",
   "nbconvert_exporter": "python",
   "pygments_lexer": "ipython3",
   "version": "3.9.12"
  }
 },
 "nbformat": 4,
 "nbformat_minor": 5
}
